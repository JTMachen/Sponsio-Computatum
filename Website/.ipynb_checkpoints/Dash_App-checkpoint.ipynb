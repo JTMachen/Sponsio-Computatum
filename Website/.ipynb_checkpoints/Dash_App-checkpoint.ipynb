{
 "cells": [
  {
   "cell_type": "code",
   "execution_count": 1,
   "metadata": {},
   "outputs": [],
   "source": [
    "import json\n",
    "\n",
    "import dash\n",
    "import dash_html_components as html\n",
    "from dash.dependencies import Input, Output\n"
   ]
  },
  {
   "cell_type": "code",
   "execution_count": 2,
   "metadata": {},
   "outputs": [
    {
     "name": "stdout",
     "output_type": "stream",
     "text": [
      "Running on http://127.0.0.1:8050/\n",
      "Debugger PIN: 028-489-168\n",
      " * Serving Flask app \"__main__\" (lazy loading)\n",
      " * Environment: production\n",
      "   WARNING: This is a development server. Do not use it in a production deployment.\n",
      "   Use a production WSGI server instead.\n",
      " * Debug mode: on\n"
     ]
    },
    {
     "ename": "SystemExit",
     "evalue": "1",
     "output_type": "error",
     "traceback": [
      "An exception has occurred, use %tb to see the full traceback.\n",
      "\u001b[1;31mSystemExit\u001b[0m\u001b[1;31m:\u001b[0m 1\n"
     ]
    },
    {
     "name": "stderr",
     "output_type": "stream",
     "text": [
      "C:\\Users\\taylo\\Anaconda\\lib\\site-packages\\IPython\\core\\interactiveshell.py:3333: UserWarning:\n",
      "\n",
      "To exit: use 'exit', 'quit', or Ctrl-D.\n",
      "\n"
     ]
    }
   ],
   "source": [
    "app = dash.Dash(__name__)\n",
    "\n",
    "app.layout = html.Div([\n",
    "    html.Button('New User', id='btn-1'),\n",
    "    html.Button('Returning User', id='btn-2'),\n",
    "    html.Div(id='container')\n",
    "])\n",
    "\n",
    "@app.callback(Output('container', 'children'),\n",
    "              [Input('btn-1', 'n_clicks'),\n",
    "               Input('btn-2', 'n_clicks')])\n",
    "\n",
    "def display(btn1, btn2):\n",
    "    ctx = dash.callback_context\n",
    "\n",
    "    if not ctx.triggered:\n",
    "        button_id = 'No clicks yet'\n",
    "    else:\n",
    "        button_id = ctx.triggered[0]['prop_id'].split('.')[0]\n",
    "\n",
    "    ctx_msg = json.dumps({\n",
    "        'states': ctx.states,\n",
    "        'triggered': ctx.triggered,\n",
    "        'inputs': ctx.inputs\n",
    "    }, indent=2)\n",
    "\n",
    "    return html.Div([\n",
    "        html.Table([\n",
    "            html.Tr([html.Th('Button 1'),\n",
    "                     html.Th('Button 2'),\n",
    "                     html.Th('Most Recent Click')]),\n",
    "            html.Tr([html.Td(btn1 or 0),\n",
    "                     html.Td(btn2 or 0),\n",
    "                     html.Td(button_id)])\n",
    "        ]),\n",
    "        html.Pre(ctx_msg)\n",
    "    ])\n",
    "\n",
    "\n",
    "if __name__ == '__main__':\n",
    "    app.run_server(debug=True)"
   ]
  },
  {
   "cell_type": "code",
   "execution_count": null,
   "metadata": {},
   "outputs": [],
   "source": []
  }
 ],
 "metadata": {
  "kernelspec": {
   "display_name": "Python 3",
   "language": "python",
   "name": "python3"
  },
  "language_info": {
   "codemirror_mode": {
    "name": "ipython",
    "version": 3
   },
   "file_extension": ".py",
   "mimetype": "text/x-python",
   "name": "python",
   "nbconvert_exporter": "python",
   "pygments_lexer": "ipython3",
   "version": "3.7.3"
  }
 },
 "nbformat": 4,
 "nbformat_minor": 4
}
