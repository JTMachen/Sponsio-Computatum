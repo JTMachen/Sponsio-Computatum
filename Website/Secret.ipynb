{
 "cells": [
  {
   "cell_type": "code",
   "execution_count": 10,
   "metadata": {},
   "outputs": [],
   "source": [
    "import pandas as pd\n",
    "from path import Path\n",
    "import hashlib\n",
    "from datetime import datetime\n",
    "import Place_Bet\n",
    "import json\n",
    "import pprint as pprint\n",
    "import warnings\n",
    "warnings.filterwarnings('ignore')\n",
    "pptint = pprint.PrettyPrinter(indent=4)\n",
    "from IPython.display import clear_output\n",
    "import matplotlib.pyplot as plt\n",
    "import matplotlib.image as mpimg\n",
    "from IPython.display import Image"
   ]
  },
  {
   "cell_type": "code",
   "execution_count": 28,
   "metadata": {},
   "outputs": [],
   "source": [
    "def secret():\n",
    "    image = input()\n",
    "    if image == 'Batman':\n",
    "        attempts = 0\n",
    "        image = Image(filename=\"./BATMAN.gif.png\")\n",
    "        display(image)\n",
    "        while attempts < 1000:\n",
    "            exit = input()\n",
    "            if exit == 'Exit' or exit == 'exit':\n",
    "                clear_output()\n",
    "                return\n",
    "            else:\n",
    "                clear_output()\n",
    "                display(image)\n",
    "                attempts += 1"
   ]
  },
  {
   "cell_type": "code",
   "execution_count": null,
   "metadata": {},
   "outputs": [],
   "source": []
  }
 ],
 "metadata": {
  "kernelspec": {
   "display_name": "Python 3",
   "language": "python",
   "name": "python3"
  },
  "language_info": {
   "codemirror_mode": {
    "name": "ipython",
    "version": 3
   },
   "file_extension": ".py",
   "mimetype": "text/x-python",
   "name": "python",
   "nbconvert_exporter": "python",
   "pygments_lexer": "ipython3",
   "version": "3.7.3"
  }
 },
 "nbformat": 4,
 "nbformat_minor": 4
}
